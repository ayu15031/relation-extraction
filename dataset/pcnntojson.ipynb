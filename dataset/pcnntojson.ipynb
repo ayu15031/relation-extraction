{
 "cells": [
  {
   "cell_type": "code",
   "execution_count": 19,
   "id": "72a36ee8",
   "metadata": {},
   "outputs": [],
   "source": [
    "import json\n",
    "import re\n",
    "data = json.load(open(\"predict_output (1).json\"))\n",
    "\n",
    "emoji_pattern = re.compile(\"[\"\n",
    "                               u\"\\U0001F600-\\U0001F64F\"  # emoticons\n",
    "                               u\"\\U0001F300-\\U0001F5FF\"  # symbols & pictographs\n",
    "                               u\"\\U0001F680-\\U0001F6FF\"  # transport & map symbols\n",
    "                               u\"\\U0001F1E0-\\U0001F1FF\"  # flags (iOS)\n",
    "                               u\"\\U00002500-\\U00002BEF\"  # chinese char\n",
    "                               u\"\\U00002702-\\U000027B0\"\n",
    "                               u\"\\U00002702-\\U000027B0\"\n",
    "                               u\"\\U000024C2-\\U0001F251\"\n",
    "                               u\"\\U0001f926-\\U0001f937\"\n",
    "                               u\"\\U00010000-\\U0010ffff\"\n",
    "                               u\"\\u2640-\\u2642\"\n",
    "                               u\"\\u2600-\\u2B55\"\n",
    "                               u\"\\u200d\"\n",
    "                               u\"\\u23cf\"\n",
    "                               u\"\\u23e9\"\n",
    "                               u\"\\u231a\"\n",
    "                               u\"\\ufe0f\"  # dingbats\n",
    "                               u\"\\u3030\"\n",
    "                               \"]+\", flags=re.UNICODE)\n"
   ]
  },
  {
   "cell_type": "code",
   "execution_count": 20,
   "id": "2084ec1b",
   "metadata": {},
   "outputs": [],
   "source": [
    "entities = set()\n",
    "final_data = []\n",
    "for d in data:\n",
    "#     if re.search(emoji_pattern, d[0][2]):\n",
    "#         continue\n",
    "    final_data.append(d)\n",
    "    entities.add(d[0][0])\n",
    "    entities.add(d[0][1])\n"
   ]
  },
  {
   "cell_type": "code",
   "execution_count": 21,
   "id": "60100225",
   "metadata": {},
   "outputs": [],
   "source": [
    "start = \"mmmm\"\n",
    "i = 1\n",
    "mapping = {}\n",
    "\n",
    "for entity in entities:\n",
    "    mapping[entity] = start + str(i)\n",
    "    i+=1"
   ]
  },
  {
   "cell_type": "code",
   "execution_count": 22,
   "id": "4623e0a4",
   "metadata": {},
   "outputs": [],
   "source": [
    "new_data = []\n",
    "for d in final_data:\n",
    "    new_data.append({\n",
    "        \"head\": d[0][0],\n",
    "        \"tail\": d[0][1],\n",
    "        \"relation\": d[1],\n",
    "        \"sentence\": d[0][2]\n",
    "    })\n",
    "#     new_data.append(\"\")\n",
    "#     new_data.append(mapping[d[0][0]] + '\\t' + mapping[d[0][0]] + \"\\t\" + d[0][0] +  \"\\t\" + d[0][1] + \"\\t\" + d[1] + \"\\t\" + d[0][2] + '\\t###END###')\n",
    "\n",
    "    "
   ]
  },
  {
   "cell_type": "code",
   "execution_count": 23,
   "id": "c38c7396",
   "metadata": {},
   "outputs": [],
   "source": [
    "f = open(\"predict_output2format.json\", 'w')\n",
    "    \n",
    "for d in new_data:\n",
    "    json.dump(d, f)\n",
    "    f.write('\\n')"
   ]
  },
  {
   "cell_type": "code",
   "execution_count": null,
   "id": "9eee1db1",
   "metadata": {},
   "outputs": [],
   "source": []
  },
  {
   "cell_type": "code",
   "execution_count": null,
   "id": "e79d0819",
   "metadata": {},
   "outputs": [],
   "source": []
  }
 ],
 "metadata": {
  "kernelspec": {
   "display_name": "Python 3 (ipykernel)",
   "language": "python",
   "name": "python3"
  },
  "language_info": {
   "codemirror_mode": {
    "name": "ipython",
    "version": 3
   },
   "file_extension": ".py",
   "mimetype": "text/x-python",
   "name": "python",
   "nbconvert_exporter": "python",
   "pygments_lexer": "ipython3",
   "version": "3.8.6"
  }
 },
 "nbformat": 4,
 "nbformat_minor": 5
}
