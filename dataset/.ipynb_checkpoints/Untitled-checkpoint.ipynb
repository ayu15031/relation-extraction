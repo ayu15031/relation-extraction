{
 "cells": [
  {
   "cell_type": "code",
   "execution_count": 11,
   "id": "896b77bb",
   "metadata": {},
   "outputs": [
    {
     "name": "stdout",
     "output_type": "stream",
     "text": [
      "{\"head\": \"Sunday_British_Prime_Minister_Boris_Johnson\", \"tail\": \"hospitalized\", \"relation\": \"\", \"sentence\": \"On Sunday_British_Prime_Minister_Boris_Johnson was hospitalized for tests because of persistent COVID19 symptoms 10 days after he tested positive CNN reports\"}\n",
      "\n",
      "{\"head\": \"Sunday_British_Prime_Minister_Boris_Johnson\", \"tail\": \"hospitalized\", \"relation\": \"\", \"sentence\": \"On Sunday_British_Prime_Minister_Boris_Johnson was hospitalized for tests because of persistent COVID19 symptoms 10 days after he tested positive CNN reports\"}\n",
      "\n"
     ]
    }
   ],
   "source": [
    "import json\n",
    "\n",
    "f = open(\"bio_data_predict_filtered_58.json\", \"r\")\n",
    "\n",
    "\n",
    "for a in f:\n",
    "    obj = json.loads(a)\n",
    "    break"
   ]
  },
  {
   "cell_type": "code",
   "execution_count": null,
   "id": "26896efc",
   "metadata": {},
   "outputs": [],
   "source": []
  }
 ],
 "metadata": {
  "kernelspec": {
   "display_name": "Python 3 (ipykernel)",
   "language": "python",
   "name": "python3"
  },
  "language_info": {
   "codemirror_mode": {
    "name": "ipython",
    "version": 3
   },
   "file_extension": ".py",
   "mimetype": "text/x-python",
   "name": "python",
   "nbconvert_exporter": "python",
   "pygments_lexer": "ipython3",
   "version": "3.8.6"
  }
 },
 "nbformat": 4,
 "nbformat_minor": 5
}
