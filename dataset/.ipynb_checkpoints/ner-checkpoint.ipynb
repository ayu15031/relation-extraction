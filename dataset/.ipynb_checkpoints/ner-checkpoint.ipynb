{
 "cells": [
  {
   "cell_type": "code",
   "execution_count": 2,
   "id": "90f734db",
   "metadata": {},
   "outputs": [],
   "source": [
    "import nltk\n",
    "from nltk.tokenize import word_tokenize\n",
    "from nltk.tag import pos_tag\n",
    "import json\n",
    "from nltk.chunk import conlltags2tree, tree2conlltags\n",
    "from pprint import pprint\n",
    "import random\n",
    "import string\n",
    "import re"
   ]
  },
  {
   "cell_type": "code",
   "execution_count": 3,
   "id": "ad2a8c85",
   "metadata": {},
   "outputs": [],
   "source": [
    "def clean(text):\n",
    "    emoji_pattern = re.compile(\"[\"\n",
    "        u\"\\U0001F600-\\U0001F64F\"  # emoticons\n",
    "        u\"\\U0001F300-\\U0001F5FF\"  # symbols & pictographs\n",
    "        u\"\\U0001F680-\\U0001F6FF\"  # transport & map symbols\n",
    "        u\"\\U0001F1E0-\\U0001F1FF\"  # flags (iOS)\n",
    "                           \"]+\", flags=re.UNICODE)\n",
    "    \n",
    "    \n",
    "    text = re.sub(r\"https.*\\s*\", '', text)\n",
    "    text = emoji_pattern.sub(r'', text)\n",
    "    text = re.sub(r\"RT @.*:\", '', text)\n",
    "    text = re.sub(r\"@.* \", '', text)\n",
    "\n",
    "    text = text.translate(text.maketrans('','',string.punctuation))\n",
    "    \n",
    "    return text\n",
    "    \n",
    "def preprocess(sent):\n",
    "    sent = nltk.word_tokenize(sent)\n",
    "    sent = nltk.pos_tag(sent)\n",
    "    return sent\n"
   ]
  },
  {
   "cell_type": "code",
   "execution_count": 4,
   "id": "2b06c8ee",
   "metadata": {},
   "outputs": [],
   "source": [
    "import spacy\n",
    "from spacy import displacy\n",
    "from collections import Counter\n",
    "# import en_core_web_sm\n",
    "\n",
    "\n",
    "def ner(text):\n",
    "    nlp = spacy.load(\"en_core_web_sm\")\n",
    "    doc = nlp(text)\n",
    "    entities = [(X.text, X.label_) for X in doc.ents]\n",
    "    \n",
    "    return entities\n",
    "\n",
    "\n"
   ]
  },
  {
   "cell_type": "code",
   "execution_count": 19,
   "id": "beeee252",
   "metadata": {},
   "outputs": [
    {
     "name": "stdout",
     "output_type": "stream",
     "text": [
      " Tell me again how theres not heart medication in the COVID19 vaccine they want to inject into our children Heres t…\n",
      "[('COVID19', 'ORG'), ('Heres', 'ORG')]\n"
     ]
    }
   ],
   "source": [
    "# Loading data\n",
    "\n",
    "data = json.load(open(\"data.json\"))\n",
    "\n",
    "random.shuffle(data)\n",
    "\n",
    "\n",
    "ans = set()\n",
    "\n",
    "for item in data:\n",
    "    text = item[\"text\"]\n",
    "    text = clean(text)\n",
    "#     print(text)\n",
    "    \n",
    "    entities = ner(text)\n",
    "    \n",
    "    print(text)\n",
    "    print(entities)\n",
    "    break\n",
    "#     for entity in entities:\n",
    "#         ans.add(entity)\n",
    "        \n",
    "#     if(len(ans) == 100):\n",
    "#         break\n"
   ]
  },
  {
   "cell_type": "code",
   "execution_count": 18,
   "id": "890f86f9",
   "metadata": {},
   "outputs": [
    {
     "name": "stdout",
     "output_type": "stream",
     "text": [
      "set()\n"
     ]
    }
   ],
   "source": [
    "print(ans)"
   ]
  },
  {
   "cell_type": "code",
   "execution_count": 1,
   "id": "4a4a4d0f",
   "metadata": {},
   "outputs": [],
   "source": [
    "from nltk.tag import StanfordNERTagger"
   ]
  },
  {
   "cell_type": "code",
   "execution_count": null,
   "id": "6067628e",
   "metadata": {},
   "outputs": [],
   "source": []
  }
 ],
 "metadata": {
  "kernelspec": {
   "display_name": "Python 3 (ipykernel)",
   "language": "python",
   "name": "python3"
  },
  "language_info": {
   "codemirror_mode": {
    "name": "ipython",
    "version": 3
   },
   "file_extension": ".py",
   "mimetype": "text/x-python",
   "name": "python",
   "nbconvert_exporter": "python",
   "pygments_lexer": "ipython3",
   "version": "3.8.6"
  }
 },
 "nbformat": 4,
 "nbformat_minor": 5
}
